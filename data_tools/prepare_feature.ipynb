{
 "cells": [
  {
   "cell_type": "code",
   "execution_count": 2,
   "metadata": {},
   "outputs": [],
   "source": [
    "import pandas as pd\n",
    "import seaborn as sns\n",
    "# import pyspark\n",
    "# spark = pyspark.sql.SparkSession.builder.appName('Test').getOrCreate()"
   ]
  },
  {
   "cell_type": "markdown",
   "metadata": {},
   "source": [
    "### Read data"
   ]
  },
  {
   "cell_type": "code",
   "execution_count": 3,
   "metadata": {},
   "outputs": [
    {
     "data": {
      "text/html": [
       "<div>\n",
       "<style scoped>\n",
       "    .dataframe tbody tr th:only-of-type {\n",
       "        vertical-align: middle;\n",
       "    }\n",
       "\n",
       "    .dataframe tbody tr th {\n",
       "        vertical-align: top;\n",
       "    }\n",
       "\n",
       "    .dataframe thead th {\n",
       "        text-align: right;\n",
       "    }\n",
       "</style>\n",
       "<table border=\"1\" class=\"dataframe\">\n",
       "  <thead>\n",
       "    <tr style=\"text-align: right;\">\n",
       "      <th></th>\n",
       "      <th>trj_id</th>\n",
       "      <th>driving_mode</th>\n",
       "      <th>osname</th>\n",
       "      <th>pingtimestamp</th>\n",
       "      <th>rawlat</th>\n",
       "      <th>rawlng</th>\n",
       "      <th>speed</th>\n",
       "      <th>bearing</th>\n",
       "      <th>accuracy</th>\n",
       "    </tr>\n",
       "  </thead>\n",
       "  <tbody>\n",
       "    <tr>\n",
       "      <th>0</th>\n",
       "      <td>70014</td>\n",
       "      <td>car</td>\n",
       "      <td>android</td>\n",
       "      <td>1554943236</td>\n",
       "      <td>1.342326</td>\n",
       "      <td>103.888969</td>\n",
       "      <td>18.910000</td>\n",
       "      <td>248</td>\n",
       "      <td>3.9</td>\n",
       "    </tr>\n",
       "    <tr>\n",
       "      <th>1</th>\n",
       "      <td>73573</td>\n",
       "      <td>car</td>\n",
       "      <td>android</td>\n",
       "      <td>1555582623</td>\n",
       "      <td>1.321781</td>\n",
       "      <td>103.856366</td>\n",
       "      <td>17.719076</td>\n",
       "      <td>44</td>\n",
       "      <td>4.0</td>\n",
       "    </tr>\n",
       "    <tr>\n",
       "      <th>2</th>\n",
       "      <td>75567</td>\n",
       "      <td>car</td>\n",
       "      <td>android</td>\n",
       "      <td>1555141026</td>\n",
       "      <td>1.327088</td>\n",
       "      <td>103.861273</td>\n",
       "      <td>14.021548</td>\n",
       "      <td>34</td>\n",
       "      <td>3.9</td>\n",
       "    </tr>\n",
       "    <tr>\n",
       "      <th>3</th>\n",
       "      <td>1410</td>\n",
       "      <td>car</td>\n",
       "      <td>android</td>\n",
       "      <td>1555731693</td>\n",
       "      <td>1.262482</td>\n",
       "      <td>103.823794</td>\n",
       "      <td>13.026521</td>\n",
       "      <td>181</td>\n",
       "      <td>4.0</td>\n",
       "    </tr>\n",
       "    <tr>\n",
       "      <th>4</th>\n",
       "      <td>4354</td>\n",
       "      <td>car</td>\n",
       "      <td>android</td>\n",
       "      <td>1555584497</td>\n",
       "      <td>1.283799</td>\n",
       "      <td>103.807210</td>\n",
       "      <td>14.812943</td>\n",
       "      <td>93</td>\n",
       "      <td>3.9</td>\n",
       "    </tr>\n",
       "    <tr>\n",
       "      <th>...</th>\n",
       "      <td>...</td>\n",
       "      <td>...</td>\n",
       "      <td>...</td>\n",
       "      <td>...</td>\n",
       "      <td>...</td>\n",
       "      <td>...</td>\n",
       "      <td>...</td>\n",
       "      <td>...</td>\n",
       "      <td>...</td>\n",
       "    </tr>\n",
       "    <tr>\n",
       "      <th>3034548</th>\n",
       "      <td>67126</td>\n",
       "      <td>car</td>\n",
       "      <td>android</td>\n",
       "      <td>1554971237</td>\n",
       "      <td>1.349722</td>\n",
       "      <td>103.792840</td>\n",
       "      <td>18.255438</td>\n",
       "      <td>93</td>\n",
       "      <td>6.0</td>\n",
       "    </tr>\n",
       "    <tr>\n",
       "      <th>3034549</th>\n",
       "      <td>11786</td>\n",
       "      <td>car</td>\n",
       "      <td>android</td>\n",
       "      <td>1555248352</td>\n",
       "      <td>1.386651</td>\n",
       "      <td>103.774858</td>\n",
       "      <td>23.341484</td>\n",
       "      <td>352</td>\n",
       "      <td>6.0</td>\n",
       "    </tr>\n",
       "    <tr>\n",
       "      <th>3034550</th>\n",
       "      <td>21686</td>\n",
       "      <td>car</td>\n",
       "      <td>ios</td>\n",
       "      <td>1555805714</td>\n",
       "      <td>1.329604</td>\n",
       "      <td>103.822454</td>\n",
       "      <td>23.468313</td>\n",
       "      <td>111</td>\n",
       "      <td>5.0</td>\n",
       "    </tr>\n",
       "    <tr>\n",
       "      <th>3034551</th>\n",
       "      <td>70139</td>\n",
       "      <td>car</td>\n",
       "      <td>android</td>\n",
       "      <td>1555685891</td>\n",
       "      <td>1.322202</td>\n",
       "      <td>103.886999</td>\n",
       "      <td>20.248346</td>\n",
       "      <td>266</td>\n",
       "      <td>6.0</td>\n",
       "    </tr>\n",
       "    <tr>\n",
       "      <th>3034552</th>\n",
       "      <td>23407</td>\n",
       "      <td>car</td>\n",
       "      <td>ios</td>\n",
       "      <td>1554852531</td>\n",
       "      <td>1.394246</td>\n",
       "      <td>103.906796</td>\n",
       "      <td>23.827988</td>\n",
       "      <td>313</td>\n",
       "      <td>12.0</td>\n",
       "    </tr>\n",
       "  </tbody>\n",
       "</table>\n",
       "<p>3034553 rows × 9 columns</p>\n",
       "</div>"
      ],
      "text/plain": [
       "        trj_id driving_mode   osname  pingtimestamp    rawlat      rawlng  \\\n",
       "0        70014          car  android     1554943236  1.342326  103.888969   \n",
       "1        73573          car  android     1555582623  1.321781  103.856366   \n",
       "2        75567          car  android     1555141026  1.327088  103.861273   \n",
       "3         1410          car  android     1555731693  1.262482  103.823794   \n",
       "4         4354          car  android     1555584497  1.283799  103.807210   \n",
       "...        ...          ...      ...            ...       ...         ...   \n",
       "3034548  67126          car  android     1554971237  1.349722  103.792840   \n",
       "3034549  11786          car  android     1555248352  1.386651  103.774858   \n",
       "3034550  21686          car      ios     1555805714  1.329604  103.822454   \n",
       "3034551  70139          car  android     1555685891  1.322202  103.886999   \n",
       "3034552  23407          car      ios     1554852531  1.394246  103.906796   \n",
       "\n",
       "             speed  bearing  accuracy  \n",
       "0        18.910000      248       3.9  \n",
       "1        17.719076       44       4.0  \n",
       "2        14.021548       34       3.9  \n",
       "3        13.026521      181       4.0  \n",
       "4        14.812943       93       3.9  \n",
       "...            ...      ...       ...  \n",
       "3034548  18.255438       93       6.0  \n",
       "3034549  23.341484      352       6.0  \n",
       "3034550  23.468313      111       5.0  \n",
       "3034551  20.248346      266       6.0  \n",
       "3034552  23.827988      313      12.0  \n",
       "\n",
       "[3034553 rows x 9 columns]"
      ]
     },
     "execution_count": 3,
     "metadata": {},
     "output_type": "execute_result"
    }
   ],
   "source": [
    "parquet = \"G:/My Drive/data/grab-posis/city=Singapore/part-00000-8bbff892-97d2-4011-9961-703e38972569.c000.snappy.parquet\"\n",
    "df = pd.read_parquet(parquet)\n",
    "df\n",
    "# df = spark.read.parquet(parquet)\n",
    "# df.columns"
   ]
  },
  {
   "cell_type": "code",
   "execution_count": 4,
   "metadata": {},
   "outputs": [
    {
     "data": {
      "text/html": [
       "<div>\n",
       "<style scoped>\n",
       "    .dataframe tbody tr th:only-of-type {\n",
       "        vertical-align: middle;\n",
       "    }\n",
       "\n",
       "    .dataframe tbody tr th {\n",
       "        vertical-align: top;\n",
       "    }\n",
       "\n",
       "    .dataframe thead th {\n",
       "        text-align: right;\n",
       "    }\n",
       "</style>\n",
       "<table border=\"1\" class=\"dataframe\">\n",
       "  <thead>\n",
       "    <tr style=\"text-align: right;\">\n",
       "      <th></th>\n",
       "      <th>latitude</th>\n",
       "      <th>longitude</th>\n",
       "      <th>population_2015</th>\n",
       "      <th>population_2020</th>\n",
       "    </tr>\n",
       "  </thead>\n",
       "  <tbody>\n",
       "    <tr>\n",
       "      <th>0</th>\n",
       "      <td>1.175139</td>\n",
       "      <td>103.733750</td>\n",
       "      <td>0.000000</td>\n",
       "      <td>0.000000</td>\n",
       "    </tr>\n",
       "    <tr>\n",
       "      <th>1</th>\n",
       "      <td>1.175417</td>\n",
       "      <td>103.733472</td>\n",
       "      <td>0.000000</td>\n",
       "      <td>0.000000</td>\n",
       "    </tr>\n",
       "    <tr>\n",
       "      <th>2</th>\n",
       "      <td>1.182361</td>\n",
       "      <td>103.721250</td>\n",
       "      <td>0.000000</td>\n",
       "      <td>0.000000</td>\n",
       "    </tr>\n",
       "    <tr>\n",
       "      <th>3</th>\n",
       "      <td>1.183750</td>\n",
       "      <td>103.721806</td>\n",
       "      <td>0.000000</td>\n",
       "      <td>0.000000</td>\n",
       "    </tr>\n",
       "    <tr>\n",
       "      <th>4</th>\n",
       "      <td>1.184028</td>\n",
       "      <td>103.721528</td>\n",
       "      <td>0.000000</td>\n",
       "      <td>0.000000</td>\n",
       "    </tr>\n",
       "    <tr>\n",
       "      <th>...</th>\n",
       "      <td>...</td>\n",
       "      <td>...</td>\n",
       "      <td>...</td>\n",
       "      <td>...</td>\n",
       "    </tr>\n",
       "    <tr>\n",
       "      <th>142555</th>\n",
       "      <td>1.470694</td>\n",
       "      <td>103.817083</td>\n",
       "      <td>37.020323</td>\n",
       "      <td>54.434904</td>\n",
       "    </tr>\n",
       "    <tr>\n",
       "      <th>142556</th>\n",
       "      <td>1.470694</td>\n",
       "      <td>103.817361</td>\n",
       "      <td>37.020323</td>\n",
       "      <td>54.434904</td>\n",
       "    </tr>\n",
       "    <tr>\n",
       "      <th>142557</th>\n",
       "      <td>1.470972</td>\n",
       "      <td>103.818194</td>\n",
       "      <td>37.020323</td>\n",
       "      <td>54.434904</td>\n",
       "    </tr>\n",
       "    <tr>\n",
       "      <th>142558</th>\n",
       "      <td>1.470972</td>\n",
       "      <td>103.827917</td>\n",
       "      <td>37.020323</td>\n",
       "      <td>54.434904</td>\n",
       "    </tr>\n",
       "    <tr>\n",
       "      <th>142559</th>\n",
       "      <td>1.471250</td>\n",
       "      <td>103.828194</td>\n",
       "      <td>37.020323</td>\n",
       "      <td>54.434904</td>\n",
       "    </tr>\n",
       "  </tbody>\n",
       "</table>\n",
       "<p>142560 rows × 4 columns</p>\n",
       "</div>"
      ],
      "text/plain": [
       "        latitude   longitude  population_2015  population_2020\n",
       "0       1.175139  103.733750         0.000000         0.000000\n",
       "1       1.175417  103.733472         0.000000         0.000000\n",
       "2       1.182361  103.721250         0.000000         0.000000\n",
       "3       1.183750  103.721806         0.000000         0.000000\n",
       "4       1.184028  103.721528         0.000000         0.000000\n",
       "...          ...         ...              ...              ...\n",
       "142555  1.470694  103.817083        37.020323        54.434904\n",
       "142556  1.470694  103.817361        37.020323        54.434904\n",
       "142557  1.470972  103.818194        37.020323        54.434904\n",
       "142558  1.470972  103.827917        37.020323        54.434904\n",
       "142559  1.471250  103.828194        37.020323        54.434904\n",
       "\n",
       "[142560 rows x 4 columns]"
      ]
     },
     "execution_count": 4,
     "metadata": {},
     "output_type": "execute_result"
    }
   ],
   "source": [
    "pop_data = \"G:/My Drive/data/grab-posis/population-density/population_sgp_2018-10-01.csv\"\n",
    "pop_df = pd.read_csv(pop_data)\n",
    "pop_df\n",
    "# pop_df = spark.read.option(\"header\", \"true\").csv(pop_data)\n",
    "# pop_df.show()"
   ]
  },
  {
   "cell_type": "code",
   "execution_count": 5,
   "metadata": {},
   "outputs": [],
   "source": [
    "# window = pyspark.sql.Window().partitionBy(\"\")\n",
    "# lats = pop_df['latitude'].collect().sorted"
   ]
  },
  {
   "cell_type": "code",
   "execution_count": 5,
   "metadata": {},
   "outputs": [
    {
     "name": "stdout",
     "output_type": "stream",
     "text": [
      "lats limits 103.6144247 104.03137003081235\n",
      "lngs limits 1.2415846885343818 1.4656086\n"
     ]
    }
   ],
   "source": [
    "from scipy.interpolate import griddata\n",
    "import numpy as np\n",
    "\n",
    "CHUNKS = 1000\n",
    "ICHUNKS = 1000j\n",
    "\n",
    "minlng, maxlng = df['rawlng'].min(), df['rawlng'].max()\n",
    "minlat, maxlat = df['rawlat'].min(), df['rawlat'].max()\n",
    "print('lats limits', minlng, maxlng)\n",
    "print('lngs limits', minlat, maxlat)\n",
    "grid_x, grid_y = np.mgrid[minlng:maxlng:ICHUNKS, minlat:maxlat:ICHUNKS]\n",
    "grid = griddata(pop_df[['longitude', 'latitude']], pop_df[['population_2020']], (grid_x, grid_y), method='linear')\n",
    "# np.savetxt('grid.csv', grid.squeeze())"
   ]
  },
  {
   "cell_type": "code",
   "execution_count": 6,
   "metadata": {},
   "outputs": [
    {
     "data": {
      "text/plain": [
       "(1000, 1000, (1000, 1000, 1))"
      ]
     },
     "execution_count": 6,
     "metadata": {},
     "output_type": "execute_result"
    }
   ],
   "source": [
    "from scipy.interpolate import interp2d, RectBivariateSpline, RegularGridInterpolator\n",
    "x_idx = np.linspace(minlng, maxlng, num=CHUNKS)\n",
    "y_idx = np.linspace(minlat, maxlat, num=CHUNKS)\n",
    "f = RegularGridInterpolator((x_idx, y_idx), grid, method='linear')\n",
    "# f = RectBivariateSpline(x_idx, y_idx, grid)\n",
    "# f = interp2d(grid_x, grid_y, grid)\n",
    "# f = interp2d(pop_df['longitude'], pop_df['latitude'], pop_df['population_2020'])\n",
    "len(grid_x), len(grid_y), grid.shape"
   ]
  },
  {
   "cell_type": "code",
   "execution_count": 54,
   "metadata": {},
   "outputs": [
    {
     "data": {
      "text/plain": [
       "(latitude             1.285694\n",
       " longitude          103.827361\n",
       " population_2015     48.339490\n",
       " population_2020     48.085619\n",
       " Name: 10230, dtype: float64,\n",
       " array([48.08561892]))"
      ]
     },
     "execution_count": 54,
     "metadata": {},
     "output_type": "execute_result"
    },
    {
     "data": {
      "image/png": "[encoded data removed]",
      "text/plain": [
       "<Figure size 720x720 with 1 Axes>"
      ]
     },
     "metadata": {
      "needs_background": "light"
     },
     "output_type": "display_data"
    }
   ],
   "source": [
    "import matplotlib.pyplot as plt\n",
    "plt.figure(figsize=(10,10))\n",
    "plt.imshow(grid, extent=(minlng,maxlng,minlat,maxlat))\n",
    "plt.savefig('heatmap.png')\n",
    "np.savetxt('inference.csv', f(np.stack((x_idx, y_idx), axis=1)))"
   ]
  },
  {
   "cell_type": "markdown",
   "metadata": {},
   "source": [
    "### Generate new geofeature"
   ]
  },
  {
   "cell_type": "code",
   "execution_count": 27,
   "metadata": {},
   "outputs": [
    {
     "data": {
      "text/plain": [
       "0       [56.847899909914155]\n",
       "1        [45.13951754451628]\n",
       "2        [44.26053573574047]\n",
       "3        [48.08561892022989]\n",
       "4        [48.08561892022989]\n",
       "                ...         \n",
       "9995     [50.60761731918489]\n",
       "9996    [61.291141300769524]\n",
       "9997     [48.60301295029036]\n",
       "9998    [14.057298943134537]\n",
       "9999     [48.22184089837168]\n",
       "Length: 10000, dtype: object"
      ]
     },
     "execution_count": 27,
     "metadata": {},
     "output_type": "execute_result"
    }
   ],
   "source": [
    "def find_closest_location(x, feature: pd.DataFrame, name: str):\n",
    "    latdist = (feature['latitude'] - x[0]).abs()\n",
    "    lngdist = (feature['longitude'] - x[1]).abs()\n",
    "    idx = (latdist + lngdist).argsort()[0]\n",
    "    return feature.loc[idx, name]\n",
    "\n",
    "def interpolate_feature(x, f):\n",
    "    return f((x[1], x[0]))\n",
    "\n",
    "# df[['rawlat', 'rawlng']][:10].apply(find_closest_location, args=(pop_df, \"population_2020\",), axis=1)\n",
    "pop2020 = df[['rawlat', 'rawlng']].apply(interpolate_feature, args=(f,), axis=1)"
   ]
  }
 ],
 "metadata": {
  "interpreter": {
   "hash": "fb4092791b762560bb0c18c28defe768577e190df9de656430781353f07560d2"
  },
  "kernelspec": {
   "display_name": "Python 3.8.11 ('ddw')",
   "language": "python",
   "name": "python3"
  },
  "language_info": {
   "codemirror_mode": {
    "name": "ipython",
    "version": 3
   },
   "file_extension": ".py",
   "mimetype": "text/x-python",
   "name": "python",
   "nbconvert_exporter": "python",
   "pygments_lexer": "ipython3",
   "version": "3.8.12"
  },
  "orig_nbformat": 4
 },
 "nbformat": 4,
 "nbformat_minor": 2
}
