{
 "cells": [
  {
   "cell_type": "code",
   "execution_count": 86,
   "metadata": {},
   "outputs": [
    {
     "name": "stdout",
     "output_type": "stream",
     "text": [
      "INFO: Pandarallel will run on 16 workers.\n",
      "INFO: Pandarallel will use Memory file system to transfer data between the main process and workers.\n"
     ]
    }
   ],
   "source": [
    "import pandas as pd\n",
    "from pandarallel import pandarallel\n",
    "import requests\n",
    "import json\n",
    "pandarallel.initialize(nb_workers=16)"
   ]
  },
  {
   "cell_type": "markdown",
   "metadata": {},
   "source": [
    "### Read data"
   ]
  },
  {
   "cell_type": "code",
   "execution_count": 72,
   "metadata": {},
   "outputs": [],
   "source": [
    "flat_prices_csv = \"/home/foolingeng/ruien/data/grab-posisi/hdb-resale-prices/prices_cleaned.csv\"\n",
    "flat_coords_csv = \"/home/foolingeng/ruien/data/grab-posisi/hdb-resale-prices/flat_coordinates_clean.csv\"\n",
    "flat_prices = pd.read_csv(flat_prices_csv)\n",
    "flat_coords = pd.read_csv(flat_coords_csv)"
   ]
  },
  {
   "cell_type": "markdown",
   "metadata": {},
   "source": [
    "### Get address"
   ]
  },
  {
   "cell_type": "code",
   "execution_count": 73,
   "metadata": {},
   "outputs": [],
   "source": [
    "## Function for getting postal code, geo coordinates of addresses\n",
    "def find_postal(lst, filename):\n",
    "    '''With the block number and street name, get the full address of the hdb flat,\n",
    "    including the postal code, geogaphical coordinates (lat/long)'''\n",
    "    \n",
    "    for index,add in enumerate(lst):\n",
    "        # Do not need to change the URL\n",
    "        url= \"https://developers.onemap.sg/commonapi/search?returnGeom=Y&getAddrDetails=Y&pageNum=1&searchVal=\"+ add        \n",
    "        print(index,url)\n",
    "        \n",
    "        # Retrieve information from website\n",
    "        response = requests.get(url)\n",
    "        try:\n",
    "            data = json.loads(response.text) \n",
    "        except ValueError:\n",
    "            print('JSONDecodeError')\n",
    "            pass\n",
    "    \n",
    "        temp_df = pd.DataFrame.from_dict(data[\"results\"])\n",
    "        # The \"add\" is the address that was used to search in the website\n",
    "        temp_df[\"address\"] = add\n",
    "        \n",
    "        # Create the file with the first row that is read in \n",
    "        if index == 0:\n",
    "            file = temp_df\n",
    "        else:\n",
    "            file = file.append(temp_df)\n",
    "    file.to_csv(filename + '.csv')"
   ]
  },
  {
   "cell_type": "code",
   "execution_count": 78,
   "metadata": {},
   "outputs": [
    {
     "name": "stdout",
     "output_type": "stream",
     "text": [
      "Unique addresses: 9279\n"
     ]
    }
   ],
   "source": [
    "flat_prices['address'] = flat_prices['block'] + ' ' + flat_prices['street_name']\n",
    "all_address = list(flat_prices['address'])\n",
    "unique_address = list(set(all_address))\n",
    "print('Unique addresses:', len(unique_address))"
   ]
  },
  {
   "cell_type": "code",
   "execution_count": null,
   "metadata": {},
   "outputs": [],
   "source": [
    "find_postal(unique_address, 'flat_coordinates')"
   ]
  },
  {
   "cell_type": "markdown",
   "metadata": {},
   "source": [
    "### Append coordinates"
   ]
  },
  {
   "cell_type": "code",
   "execution_count": 87,
   "metadata": {},
   "outputs": [],
   "source": [
    "def lookup_address(address, lookup, feat_name):\n",
    "    match = (lookup['address'] == address)\n",
    "    coords = lookup[feat_name][match]\n",
    "    return coords.values[0]\n",
    "\n",
    "real_value = flat_coords['address'].parallel_apply(\n",
    "    lookup_address, args=(flat_prices, 'real_price',))"
   ]
  },
  {
   "cell_type": "code",
   "execution_count": 95,
   "metadata": {},
   "outputs": [
    {
     "data": {
      "text/html": [
       "<div>\n",
       "<style scoped>\n",
       "    .dataframe tbody tr th:only-of-type {\n",
       "        vertical-align: middle;\n",
       "    }\n",
       "\n",
       "    .dataframe tbody tr th {\n",
       "        vertical-align: top;\n",
       "    }\n",
       "\n",
       "    .dataframe thead th {\n",
       "        text-align: right;\n",
       "    }\n",
       "</style>\n",
       "<table border=\"1\" class=\"dataframe\">\n",
       "  <thead>\n",
       "    <tr style=\"text-align: right;\">\n",
       "      <th></th>\n",
       "      <th>address</th>\n",
       "      <th>latitude</th>\n",
       "      <th>longitude</th>\n",
       "      <th>real_value</th>\n",
       "    </tr>\n",
       "  </thead>\n",
       "  <tbody>\n",
       "    <tr>\n",
       "      <th>0</th>\n",
       "      <td>754 WOODLANDS CIRCLE</td>\n",
       "      <td>1.445289</td>\n",
       "      <td>103.793929</td>\n",
       "      <td>277427.490542</td>\n",
       "    </tr>\n",
       "    <tr>\n",
       "      <th>1</th>\n",
       "      <td>481 SEMBAWANG DR</td>\n",
       "      <td>1.452976</td>\n",
       "      <td>103.815094</td>\n",
       "      <td>296543.543626</td>\n",
       "    </tr>\n",
       "    <tr>\n",
       "      <th>2</th>\n",
       "      <td>506 BEDOK NTH AVE 3</td>\n",
       "      <td>1.332143</td>\n",
       "      <td>103.933720</td>\n",
       "      <td>179527.353440</td>\n",
       "    </tr>\n",
       "    <tr>\n",
       "      <th>3</th>\n",
       "      <td>688B CHOA CHU KANG DR</td>\n",
       "      <td>1.403436</td>\n",
       "      <td>103.750337</td>\n",
       "      <td>270684.236935</td>\n",
       "    </tr>\n",
       "    <tr>\n",
       "      <th>4</th>\n",
       "      <td>674 CHOA CHU KANG CRES</td>\n",
       "      <td>1.401554</td>\n",
       "      <td>103.746994</td>\n",
       "      <td>455795.889746</td>\n",
       "    </tr>\n",
       "    <tr>\n",
       "      <th>...</th>\n",
       "      <td>...</td>\n",
       "      <td>...</td>\n",
       "      <td>...</td>\n",
       "      <td>...</td>\n",
       "    </tr>\n",
       "    <tr>\n",
       "      <th>11737</th>\n",
       "      <td>862A TAMPINES ST 83</td>\n",
       "      <td>1.355064</td>\n",
       "      <td>103.936507</td>\n",
       "      <td>221904.732954</td>\n",
       "    </tr>\n",
       "    <tr>\n",
       "      <th>11738</th>\n",
       "      <td>173 BT BATOK WEST AVE 8</td>\n",
       "      <td>1.346105</td>\n",
       "      <td>103.740825</td>\n",
       "      <td>128049.170882</td>\n",
       "    </tr>\n",
       "    <tr>\n",
       "      <th>11739</th>\n",
       "      <td>327 JURONG EAST ST 31</td>\n",
       "      <td>1.349123</td>\n",
       "      <td>103.728986</td>\n",
       "      <td>261109.468913</td>\n",
       "    </tr>\n",
       "    <tr>\n",
       "      <th>11740</th>\n",
       "      <td>327 JURONG EAST ST 31</td>\n",
       "      <td>1.349141</td>\n",
       "      <td>103.729174</td>\n",
       "      <td>261109.468913</td>\n",
       "    </tr>\n",
       "    <tr>\n",
       "      <th>11741</th>\n",
       "      <td>183 STIRLING RD</td>\n",
       "      <td>1.295687</td>\n",
       "      <td>103.804862</td>\n",
       "      <td>464442.398310</td>\n",
       "    </tr>\n",
       "  </tbody>\n",
       "</table>\n",
       "<p>11742 rows × 4 columns</p>\n",
       "</div>"
      ],
      "text/plain": [
       "                       address  latitude   longitude     real_value\n",
       "0         754 WOODLANDS CIRCLE  1.445289  103.793929  277427.490542\n",
       "1             481 SEMBAWANG DR  1.452976  103.815094  296543.543626\n",
       "2          506 BEDOK NTH AVE 3  1.332143  103.933720  179527.353440\n",
       "3        688B CHOA CHU KANG DR  1.403436  103.750337  270684.236935\n",
       "4       674 CHOA CHU KANG CRES  1.401554  103.746994  455795.889746\n",
       "...                        ...       ...         ...            ...\n",
       "11737      862A TAMPINES ST 83  1.355064  103.936507  221904.732954\n",
       "11738  173 BT BATOK WEST AVE 8  1.346105  103.740825  128049.170882\n",
       "11739    327 JURONG EAST ST 31  1.349123  103.728986  261109.468913\n",
       "11740    327 JURONG EAST ST 31  1.349141  103.729174  261109.468913\n",
       "11741          183 STIRLING RD  1.295687  103.804862  464442.398310\n",
       "\n",
       "[11742 rows x 4 columns]"
      ]
     },
     "execution_count": 95,
     "metadata": {},
     "output_type": "execute_result"
    }
   ],
   "source": [
    "flat_coords['real_value'] = real_value\n",
    "flat_coords = flat_coords.rename(columns={'LATITUDE': 'latitude', 'LONGITUDE': 'longitude'})\n",
    "flat_coords.to_csv('/home/foolingeng/ruien/data/grab-posisi/hdb-resale-prices/hdb_prices_feature.csv')\n",
    "flat_coords"
   ]
  }
 ],
 "metadata": {
  "interpreter": {
   "hash": "bb6e6b4c96484c5ba8276dbecdc9c4595a3117636ea41ee278a087c80d17981b"
  },
  "kernelspec": {
   "display_name": "Python 3.8.12 ('posis')",
   "language": "python",
   "name": "python3"
  },
  "language_info": {
   "codemirror_mode": {
    "name": "ipython",
    "version": 3
   },
   "file_extension": ".py",
   "mimetype": "text/x-python",
   "name": "python",
   "nbconvert_exporter": "python",
   "pygments_lexer": "ipython3",
   "version": "3.8.12"
  },
  "orig_nbformat": 4
 },
 "nbformat": 4,
 "nbformat_minor": 2
}
