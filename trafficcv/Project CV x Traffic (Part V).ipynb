{
 "cells": [
  {
   "cell_type": "markdown",
   "metadata": {
    "id": "gvqjqCgSrDd8"
   },
   "source": [
    "# Introduction\n",
    "<font color='orange'>[Google Colab]</font> In the last Part, we used computer vision to count the number of vehicles in the images captured by the traffic camera. All the effort came down to this Part, where we will finally analyze the data.\n",
    "\n",
    "In this Part, we will:\n",
    "1. Load up the CSVs as DataFrames\n",
    "2. Transform and simplify the DataFrames\n",
    "3. Plot the respective num_cars over time"
   ]
  },
  {
   "cell_type": "markdown",
   "metadata": {
    "id": "79wDDwf9rkae"
   },
   "source": [
    "### Step 1: Import libraries\n",
    "We'll just need:\n",
    "1. pandas as pd\n",
    "2. seaborn as sns\n",
    "3. matplotlib.pyplot as plt"
   ]
  },
  {
   "cell_type": "code",
   "execution_count": null,
   "metadata": {
    "id": "9aBWb73oq_Je"
   },
   "outputs": [],
   "source": [
    "# Step 1: Import libraries"
   ]
  },
  {
   "cell_type": "markdown",
   "metadata": {
    "id": "BuxSFRGfr2rH"
   },
   "source": [
    "### Step 2: Read the CSVs with num_cars\n",
    "Mount your Drive, and we'll read the two CSVs that we exported from last Part into DataFrames.\n",
    "\n",
    "We'll need the timestamp data as well, so make sure you have your parse_dates as True for one of the arguments."
   ]
  },
  {
   "cell_type": "code",
   "execution_count": null,
   "metadata": {
    "id": "KGU6fG5Erw2L"
   },
   "outputs": [],
   "source": [
    "# Step 2: Read the CSVs from Part IV"
   ]
  },
  {
   "cell_type": "markdown",
   "metadata": {
    "id": "-3IP6igjtove"
   },
   "source": [
    "### Step 3: Turn the timestamp column into actual datetime objects\n",
    "Currently, the values in the \"timestamp\" column are strings. \n",
    "\n",
    "You'll need to convert them into proper DateTime objects."
   ]
  },
  {
   "cell_type": "markdown",
   "metadata": {
    "id": "DpTpl9DRuB3X"
   },
   "source": [
    "<details>\n",
    "  <summary>Click here once for a hint</summary>\n",
    "    <div><strong>Google \"turn string into datetime python pandas\"</strong></div>\n",
    "</details>"
   ]
  },
  {
   "cell_type": "code",
   "execution_count": null,
   "metadata": {
    "id": "jhVV4vgatfki"
   },
   "outputs": [],
   "source": [
    "# Step 3a: Turn timestamp string in the 2019 DataFrame to DateTime"
   ]
  },
  {
   "cell_type": "code",
   "execution_count": null,
   "metadata": {
    "id": "j7pOtCH_tToC"
   },
   "outputs": [],
   "source": [
    "# Step 3b: Turn timestamp string in the 2020 DataFrame to DateTime"
   ]
  },
  {
   "cell_type": "markdown",
   "metadata": {
    "id": "pS_QbkhNvFSQ"
   },
   "source": [
    "### Step 4: Set your timestamp column as index\n",
    "Turn your \"timestamp\" column into your DataFrame's index so that we can perform time series analysis later on."
   ]
  },
  {
   "cell_type": "code",
   "execution_count": null,
   "metadata": {
    "id": "1v2twPVFvEkO"
   },
   "outputs": [],
   "source": [
    "# Step 4a: Set your \"timestamp\" column as index for 2019 DataFrame"
   ]
  },
  {
   "cell_type": "code",
   "execution_count": null,
   "metadata": {
    "id": "9MyijB5vvTwS"
   },
   "outputs": [],
   "source": [
    "# Step 4b: Set your \"timestamp\" column as index for 2020 DataFrame"
   ]
  },
  {
   "cell_type": "markdown",
   "metadata": {
    "id": "NqLzNn5Ms1jr"
   },
   "source": [
    "# Exploratory data analysis\n",
    "Now that we're done with loading the data, the Steps henceforth will be visualization."
   ]
  },
  {
   "cell_type": "markdown",
   "metadata": {
    "id": "K87M5apWG-0b"
   },
   "source": [
    "### Step 4: Plot histograms with num_car in 2019 and 2020\n",
    "Let's plot the distribution of the num_car values in the two DataFrames."
   ]
  },
  {
   "cell_type": "code",
   "execution_count": null,
   "metadata": {
    "colab": {
     "base_uri": "https://localhost:8080/",
     "height": 332
    },
    "id": "HsRZO6tbHOE2",
    "outputId": "f3c9b2e5-3250-4a9f-fefe-dc25dc93a227"
   },
   "outputs": [],
   "source": [
    "# Step 4a: Plot a histogram with 2019 Jan num_cars"
   ]
  },
  {
   "cell_type": "code",
   "execution_count": null,
   "metadata": {
    "colab": {
     "base_uri": "https://localhost:8080/",
     "height": 330
    },
    "id": "qILtWTtZHYY3",
    "outputId": "5138af40-4458-4c42-9a11-b268b2b71f49"
   },
   "outputs": [],
   "source": [
    "# Step 4b: Plot a histogram with 2020 Jan num_cars"
   ]
  },
  {
   "cell_type": "code",
   "execution_count": null,
   "metadata": {
    "colab": {
     "base_uri": "https://localhost:8080/",
     "height": 332
    },
    "id": "uTOfBdSGIN6G",
    "outputId": "90293497-2d11-446c-85a9-3d44bb7808d4"
   },
   "outputs": [],
   "source": [
    "# Step 4c: Plot both histograms in the same plot"
   ]
  },
  {
   "cell_type": "markdown",
   "metadata": {
    "id": "egSprbbYu3BH"
   },
   "source": [
    "### Step 5: Resample your DataFrames by day\n",
    "Let's take a look at how the numbers change over the month.\n",
    "\n",
    "Declare two new variable that contain a day resample of your DataFrame, and we'll sum the numbers during our resample.\n",
    "\n",
    "Useful resource: https://pandas.pydata.org/pandas-docs/stable/reference/api/pandas.Series.resample.html"
   ]
  },
  {
   "cell_type": "code",
   "execution_count": null,
   "metadata": {
    "id": "NiXQkiQhssTc"
   },
   "outputs": [],
   "source": [
    "# Step 5: Resample your DataFrames by day"
   ]
  },
  {
   "cell_type": "markdown",
   "metadata": {
    "id": "3PO8TU-tzc2H"
   },
   "source": [
    "### Step 6: Plot your resampled DataFrame num_cars sum \n",
    "Your resample DataFrame would have summed up the num_cars over the daily period. \n",
    "\n",
    "Plot the .values of num_cars from the two DataFrames on top of each other. If you don't use the values alone, you won't be able to compare them in the same plot.\n",
    "\n",
    "You should also use the values from the second row onwards because the first row in both DataFrames are anomalous, i.e. 2019 DataFrame contains 2018 data in the first row.\n",
    "\n",
    "Again, don't worry if they don't look similar."
   ]
  },
  {
   "cell_type": "markdown",
   "metadata": {
    "id": "QW84UYajGviM"
   },
   "source": [
    "<details>\n",
    "    <summary><font color = 'green'>Click here once to see if your results match with ours.</font></summary>\n",
    "    <div>\n",
    "        <img src = 'https://uplevelsg.s3-ap-southeast-1.amazonaws.com/ProjectComputerVisionTraffic/ResampleDayPlot.png'>\n",
    "    </div>\n",
    "</details>"
   ]
  },
  {
   "cell_type": "code",
   "execution_count": null,
   "metadata": {
    "colab": {
     "base_uri": "https://localhost:8080/",
     "height": 281
    },
    "id": "uAqqtnkttDH7",
    "outputId": "89ccc101-de4f-49d5-d0c0-a3285a5e1a68"
   },
   "outputs": [],
   "source": [
    "# Step 6: Plot the resampled num_cars sum for 2019 and 2020"
   ]
  },
  {
   "cell_type": "markdown",
   "metadata": {
    "id": "5pK4E_IEM9HA"
   },
   "source": [
    "### Step 7: Create a weekday column for your resampled DataFrame\n",
    "Now that we've seen how the numbers look over the month, let's see the average of each day of the week.\n",
    "\n",
    "Extract the day of week using DateTimeIndex, and create a new column.\n",
    "\n",
    "You'll see something like this for the 2019 DataFrame:\n",
    "\n",
    "![DayOfWeekResampledDataFrame](https://uplevelsg.s3-ap-southeast-1.amazonaws.com/ProjectComputerVisionTraffic/DayOfWeekResampledDataFrame.png)\n",
    "\n"
   ]
  },
  {
   "cell_type": "code",
   "execution_count": null,
   "metadata": {
    "colab": {
     "base_uri": "https://localhost:8080/",
     "height": 996
    },
    "id": "f28mboZiyhyV",
    "outputId": "5dab5adc-8812-4d13-e2eb-3d5b16e011c6"
   },
   "outputs": [],
   "source": [
    "# Step 7a: Add the dayOfWeek column for 2019 DataFrame"
   ]
  },
  {
   "cell_type": "code",
   "execution_count": null,
   "metadata": {
    "colab": {
     "base_uri": "https://localhost:8080/",
     "height": 996
    },
    "id": "DEtUletvOtY_",
    "outputId": "779d6e75-6f57-4a56-b09a-b116410d188a"
   },
   "outputs": [],
   "source": [
    "# Step 7b: Add the dayOfWeek column for 2020 DataFrame"
   ]
  },
  {
   "cell_type": "markdown",
   "metadata": {
    "id": "KRa5urDsX5De"
   },
   "source": [
    "### Step 8: Perform a groupby operation with the dayOfWeek and get the mean\n",
    "Let's see how many cars there are on average by weekday. \n",
    "\n",
    "Caution: before you groupby, <strong>remove the first row of your DataFrame first.</strong> \n",
    "\n",
    "That's because the first row contains data from the preceding year and will mess with your .mean operation during groupby.\n",
    "\n",
    "Slice your DataFrame to exclude the first row, perform a groupby operation based on 'dayOfWeek' and get the mean."
   ]
  },
  {
   "cell_type": "code",
   "execution_count": null,
   "metadata": {
    "colab": {
     "base_uri": "https://localhost:8080/",
     "height": 277
    },
    "id": "b1n9TTLZX27h",
    "outputId": "cab7ab53-b7ae-4282-d87a-b97cd15205c0"
   },
   "outputs": [],
   "source": [
    "# Step 8a: Perform groupby with dayOfWeek for 2019 DataFrame"
   ]
  },
  {
   "cell_type": "code",
   "execution_count": null,
   "metadata": {
    "colab": {
     "base_uri": "https://localhost:8080/",
     "height": 277
    },
    "id": "XNiVXp4oYSzx",
    "outputId": "b4c266fb-487f-4e9e-cde0-becd530f6dbd"
   },
   "outputs": [],
   "source": [
    "# Step 8b: Perform groupby with dayOfWeek for 2019 DataFrame"
   ]
  },
  {
   "cell_type": "markdown",
   "metadata": {
    "id": "9px1uqycYxuH"
   },
   "source": [
    "### Step 9: Plot the groupby mean of the two groupby DataFrames\n",
    "After you're done with the groupby operation, let's plot and see what the average of num_cars is for each day of the week.\n",
    "\n",
    "Note: If you get an odd dip on Monday (1) for 2020, that's because you didn't remove the first anomalous row that brings down the entire Monday average.\n"
   ]
  },
  {
   "cell_type": "code",
   "execution_count": null,
   "metadata": {
    "colab": {
     "base_uri": "https://localhost:8080/",
     "height": 281
    },
    "id": "-ctKufejYkVm",
    "outputId": "3021c633-2db3-4309-f446-e5d3fa73816d"
   },
   "outputs": [],
   "source": [
    "# Step 9a: Plot a lineplot with dayOfWeek (the index) and the num_cars values for 2019"
   ]
  },
  {
   "cell_type": "code",
   "execution_count": null,
   "metadata": {
    "colab": {
     "base_uri": "https://localhost:8080/",
     "height": 281
    },
    "id": "woX2tyorZDPc",
    "outputId": "2c64c08e-9bfd-4213-a62a-7f3efb5dcded"
   },
   "outputs": [],
   "source": [
    "# Step 9b: Plot a lineplot with dayOfWeek (the index) and the num_cars values for 2020"
   ]
  },
  {
   "cell_type": "code",
   "execution_count": null,
   "metadata": {
    "colab": {
     "base_uri": "https://localhost:8080/",
     "height": 281
    },
    "id": "F5XIoQnnZIWy",
    "outputId": "85aced3e-50de-4356-9de4-97b9c937b680"
   },
   "outputs": [],
   "source": [
    "# Step 9c: Plot a lineplot with dayOfWeek (the index) and the num_cars values for both years on the same plot"
   ]
  },
  {
   "cell_type": "markdown",
   "metadata": {
    "id": "lWZttLPcaTqh"
   },
   "source": [
    "# The End\n",
    "We're done! \n",
    "\n",
    "In this section, we compared the Jan in both years to see if there was any observable differences in the traffic levels.\n",
    "\n",
    "<details>\n",
    "  <summary><font color='green'>Is there a difference between the month of Jan for 2019 and 2020? Click once to see what we think.</font></summary>\n",
    "    <div><strong>No</strong></div>\n",
    "</details>\n",
    "\n",
    "Does it feel anticlimatic after finding that out? \n",
    "\n",
    "Don't be discouraged, you gained more than you think.\n",
    "\n",
    "In fact, you acquired so many new skills. To recap, you:\n",
    "1. Acquired the superpower of concurrency\n",
    "2. Learned to make many API calls at one go\n",
    "3. Saved many images at one time\n",
    "4. Configured your Google Colab environment for GPU-enabled object detection\n",
    "5. Performed object detection\n",
    "\n",
    "<strong>If you're keen, here are some more things you can try:</strong>\n",
    "- Use May 2019 and 2020 data for an observable difference in num_cars\n",
    "\n",
    "We hope this project series has UpLevelled you and your skills.\n",
    "\n",
    "Whatever you learn here is but a tip of the iceberg, and launchpad for bigger and better things to come.\n",
    "\n",
    "Come join us in our Telegram community over at https://bit.ly/UpLevelSG and our Facebook page at https://fb.com/UpLevelSG\n",
    "\n",
    "<strong>Most importantly, UpLevel won't be what it is today without learners like yourself so help us grow by spreading the word and get more subscribers <font color='red'><3</font></strong>\n"
   ]
  }
 ],
 "metadata": {
  "colab": {
   "collapsed_sections": [],
   "name": "Project CV x Traffic (Part V)",
   "provenance": [],
   "toc_visible": true
  },
  "kernelspec": {
   "display_name": "Python 3",
   "language": "python",
   "name": "python3"
  },
  "language_info": {
   "codemirror_mode": {
    "name": "ipython",
    "version": 3
   },
   "file_extension": ".py",
   "mimetype": "text/x-python",
   "name": "python",
   "nbconvert_exporter": "python",
   "pygments_lexer": "ipython3",
   "version": "3.8.3"
  }
 },
 "nbformat": 4,
 "nbformat_minor": 1
}
