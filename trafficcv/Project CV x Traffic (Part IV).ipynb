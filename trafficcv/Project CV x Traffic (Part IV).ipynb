{
 "cells": [
  {
   "cell_type": "markdown",
   "metadata": {
    "id": "F1tVcT6wORTN"
   },
   "source": [
    "# Introduction\n",
    "<font color='orange'>[Google Colab]</font> In the previous Part, you collected the traffic images for 2019 and 2020 Jan. You've also set up the necessary things for GPU-based object detection to happen.\n",
    "\n",
    "If we don't use GPU-based object detection, we will take approximately 120,000 seconds to complete detecting the objects in our ~60,000 image dataset.\n",
    "\n",
    "That's roughly 33 hours.\n",
    "\n",
    "In this Part, you will do the following:\n",
    "1. Set up the runtime for GPU running\n",
    "2. Load the two DataFrames\n",
    "3. Test object detection on one image\n",
    "4. Detect number of objects in all images\n",
    "5. Updating the DataFrames with the vehicle count\n",
    "\n",
    "This will be another long one - <font color='red'><strong>anticipate 4-5 hours for each folder's worth of images.</strong></font>"
   ]
  },
  {
   "cell_type": "markdown",
   "metadata": {
    "id": "OPFlT2QcQKJo"
   },
   "source": [
    "# Runtime and library setup\n",
    "We'll need to do a few things before we can start detecting objects."
   ]
  },
  {
   "cell_type": "markdown",
   "metadata": {
    "id": "bLmxjkqPORIX"
   },
   "source": [
    "### Step 1: Change Google Colab runtime to GPU\n",
    "1. Head to Runtime tab\n",
    "2. Click on \"Change runtime type\"\n",
    "3. Choose GPU from the dropdown button\n",
    "4. Click \"Save\"\n",
    "\n",
    "Your runtime is now GPU based."
   ]
  },
  {
   "cell_type": "markdown",
   "metadata": {
    "id": "2KPvtV3NRmRO"
   },
   "source": [
    "### Step 2: Import os \n",
    "Import os first so that we can change our working directory."
   ]
  },
  {
   "cell_type": "code",
   "execution_count": null,
   "metadata": {
    "id": "P-rJws3SRrYy"
   },
   "outputs": [],
   "source": [
    "# Step 2: Import os"
   ]
  },
  {
   "cell_type": "markdown",
   "metadata": {
    "id": "EU5H8rqDROys"
   },
   "source": [
    "### Step 3: Change working directory to your current folder\n",
    "We hope that you followed the previous Part's instructions, and have \"cv2.cpython-36m-x86_64-linux-gnu.so\" in your folder.\n",
    "\n",
    "Before we import OpenCV, we need to make sure that our current working directory is our folder.\n",
    "\n",
    "If we don't do that, when we import OpenCV we will end up importing the default version.\n",
    "\n",
    "The easiest way is to:\n",
    "1. Mount your Drive\n",
    "2. Get the PATH of this project folder\n",
    "3. Use chdir from os library to change your current folder directory.\n",
    "\n",
    "Don't forget to check the current working directory with .getcwd!"
   ]
  },
  {
   "cell_type": "code",
   "execution_count": null,
   "metadata": {
    "colab": {
     "base_uri": "https://localhost:8080/",
     "height": 35
    },
    "id": "Buuy5AdqRK8T",
    "outputId": "c28a9327-304e-4c56-ca40-6b43781e838d"
   },
   "outputs": [],
   "source": [
    "# Step 3: Change working directory"
   ]
  },
  {
   "cell_type": "markdown",
   "metadata": {
    "id": "PKqRPg04QHq0"
   },
   "source": [
    "### Step 4: Import OpenCV first\n",
    "Import cv2 and check its version to see if it's 4.5.0-pre or something later."
   ]
  },
  {
   "cell_type": "code",
   "execution_count": null,
   "metadata": {
    "colab": {
     "base_uri": "https://localhost:8080/",
     "height": 35
    },
    "id": "uJqH0SYIOQHR",
    "outputId": "2067f2f9-29ac-4b9e-8b49-e2b09c6b3629"
   },
   "outputs": [],
   "source": [
    "# Step 4: Import OpenCV first"
   ]
  },
  {
   "cell_type": "markdown",
   "metadata": {
    "id": "fy4TpjrtSX0K"
   },
   "source": [
    "### Step 5: Install cvlib\n",
    "Now that you're done with the latest version of OpenCV, you'll have to pip install cvlib next. \n",
    "\n",
    "cvlib is a fantastic library that makes it easy to use computer vision models. \n",
    "\n",
    "More information in the documentation at https://www.cvlib.net/"
   ]
  },
  {
   "cell_type": "code",
   "execution_count": null,
   "metadata": {
    "colab": {
     "base_uri": "https://localhost:8080/"
    },
    "id": "fLhokjV2RG_O",
    "outputId": "ae99a09c-fa3d-4452-89d4-1941c2a58e66"
   },
   "outputs": [],
   "source": [
    "# Step 5: Install cvlib"
   ]
  },
  {
   "cell_type": "markdown",
   "metadata": {
    "id": "btHfrJLJS6tT"
   },
   "source": [
    "### Step 6: Import libraries\n",
    "Now that we're done setting the two important libraries up, we'll import the rest. Import:\n",
    "- cvlib as cv\n",
    "- pandas as pd\n",
    "- cv2\n",
    "- numpy as np\n",
    "- matplotlib.pyplot as plt\n",
    "- draw_bbox from cvlib.object_detection\n"
   ]
  },
  {
   "cell_type": "code",
   "execution_count": null,
   "metadata": {
    "id": "jt1m715WS3fz"
   },
   "outputs": [],
   "source": [
    "# Step 6: Import libraries"
   ]
  },
  {
   "cell_type": "markdown",
   "metadata": {
    "id": "8d-eFU40UlRY"
   },
   "source": [
    "### Step 7: Read the two CSVs as DataFrames\n",
    "Let's read our CSVs again into DataFrames, since we'll need to update their numbers."
   ]
  },
  {
   "cell_type": "code",
   "execution_count": null,
   "metadata": {
    "id": "LhJRPAvwUsqH"
   },
   "outputs": [],
   "source": [
    "# Step 7: Read the 2019 and 2020 CSVs"
   ]
  },
  {
   "cell_type": "markdown",
   "metadata": {
    "id": "zL_OZU4NUbCn"
   },
   "source": [
    "# Single image analysis\n",
    "Time to analyze the images! We'll start off with analyzing the individual images first, then retrieve the numbers of vehicles for all images."
   ]
  },
  {
   "cell_type": "markdown",
   "metadata": {
    "id": "LB-zTaxpVDzS"
   },
   "source": [
    "### Step 8: Read first image from the 2019 folder\n",
    "Using the imread method from the OpenCV/cv2 library, read the first image from the 2019_Jan folder, i.e. \"car_image_2019_Jan/0.jpg\" and save it into a variable."
   ]
  },
  {
   "cell_type": "code",
   "execution_count": null,
   "metadata": {
    "id": "7JwNuGJ9UZdp"
   },
   "outputs": [],
   "source": [
    "# Step 8: Read the first image from 2019 folder"
   ]
  },
  {
   "cell_type": "markdown",
   "metadata": {
    "id": "nKFumCFKW5eV"
   },
   "source": [
    "### Step 9: Detect common objects\n",
    "With the read image, you can then use .detect_common_objects method from cvlib with the image. \n",
    "\n",
    "A few things to note about the parameters in the method:\n",
    "1. model = 'yolov4'\n",
    "2. enable_gpu = True\n",
    "\n",
    "After you run the code, you'll have to wait a bit for cvlib to download the computer vision model yolov4 weights and configurations.\n",
    "\n",
    "Refer to the documentation for the example code at the bottom (don't forget the extra parameters)."
   ]
  },
  {
   "cell_type": "code",
   "execution_count": null,
   "metadata": {
    "colab": {
     "base_uri": "https://localhost:8080/"
    },
    "id": "rVf7Q3rgWwSy",
    "outputId": "f67d784c-2107-4f2c-fdae-4042e1572bae"
   },
   "outputs": [],
   "source": [
    "# Step 9: Detect common objects "
   ]
  },
  {
   "cell_type": "markdown",
   "metadata": {
    "id": "VqLokWs_YzO-"
   },
   "source": [
    "### Step 10: Count length of label\n",
    "If you followed the documentation, you should have three variables after using .detect_common_objects method.\n",
    "\n",
    "The label is a list containing the objects that the model detected. Print the length of the list to see how many vehicles were detected."
   ]
  },
  {
   "cell_type": "code",
   "execution_count": null,
   "metadata": {
    "colab": {
     "base_uri": "https://localhost:8080/"
    },
    "id": "HS1aBwU2ZEYD",
    "outputId": "1571a446-33f6-4f43-ffa9-4e967880aa9e"
   },
   "outputs": [],
   "source": [
    "# Step 10: Print length of label"
   ]
  },
  {
   "cell_type": "markdown",
   "metadata": {
    "id": "fuWNBAFEXXaJ"
   },
   "source": [
    "### Step 11: Draw bounding box in image\n",
    "Use draw_bbox to draw the bounding box around the image and save the results in a new variable.\n",
    "\n",
    "Use the imshow method from plt to show the drawn image. Use .figure to change the figure size if you'd like it bigger.\n",
    "\n",
    "We won't be plotting the bounding boxes hereon, but it is nice to plot and see what was detected on our image."
   ]
  },
  {
   "cell_type": "markdown",
   "metadata": {
    "id": "yPaXmuZNYNaX"
   },
   "source": [
    "<details>\n",
    "    <summary><font color = 'green'>Click here once to see if your results match with ours.</font></summary>\n",
    "    <div>\n",
    "        <img src = 'https://uplevelsg.s3-ap-southeast-1.amazonaws.com/ProjectComputerVisionTraffic/BoundingBoxExample.png'>\n",
    "    </div>\n",
    "</details>"
   ]
  },
  {
   "cell_type": "code",
   "execution_count": null,
   "metadata": {
    "colab": {
     "base_uri": "https://localhost:8080/",
     "height": 557
    },
    "id": "YKaodrj2XNuZ",
    "outputId": "7eaaebea-5fae-4af9-ebcd-060a83fa4cfd"
   },
   "outputs": [],
   "source": [
    "# Step 11a: Draw bounding box\n",
    "\n",
    "# Step 11b: Plot the output image with .imshow"
   ]
  },
  {
   "cell_type": "markdown",
   "metadata": {
    "id": "LE8M1QaCdKRo"
   },
   "source": [
    "# All image analysis\n",
    "Now that we've done the basic image analysis, let's continue and analyze them all! "
   ]
  },
  {
   "cell_type": "markdown",
   "metadata": {
    "id": "iua2wxnsdTwy"
   },
   "source": [
    "### Step 12: Write getLabelCount\n",
    "We'll write a function, getLabelCount, that takes in two arguments:\n",
    "1. index\n",
    "2. folder_path\n",
    "\n",
    "And returns a value:\n",
    "- len(label)\n",
    "\n",
    "We'll loop through a DataFrame's index, construct the PATH to the image in the image folder, and then detect the objects in the image.\n",
    "\n",
    "The function then returns the length of label\n",
    "\n",
    "Make sure you have a try-except block, where you try to detect the labels in the image and if an exception occurs just set label to have an empty list."
   ]
  },
  {
   "cell_type": "markdown",
   "metadata": {
    "id": "yif68AG7fFKe"
   },
   "source": [
    "<details>\n",
    "  <summary>Click here once if you're unsure and need pseudocode</summary>\n",
    "  <ol>\n",
    "    <li><strong>Define</strong> getLabelCount that takes in two arguments - (<font color='red'>index</font>, <font color='green'>folder_path</font>)</li>\n",
    "    <li>Declare a variable temp_path that takes <font color='green'>folder_path</font> and combines it with the current value of the <font color='red'>index</font>, and '.jpg'</li>\n",
    "    <li>Start a try/except block, where you first try to</li>\n",
    "      <ul>\n",
    "        <li>Use the .imread method with the the temp_path, and save it in a variable named temp_img</li> \n",
    "        <li>Get the bbox+label+conf with the .detect_common_objects method (don't forget the model and enable_gpu)</li>\n",
    "      </ul>\n",
    "    <li>If an exception occurs, just set label to be an empty list</li>\n",
    "    <li>Return the length of the label</li>\n",
    "  </ol>\n",
    "</details>"
   ]
  },
  {
   "cell_type": "code",
   "execution_count": null,
   "metadata": {
    "id": "oUcwA0b2X1CL"
   },
   "outputs": [],
   "source": [
    "# Step 12: Write getLabelCount"
   ]
  },
  {
   "cell_type": "markdown",
   "metadata": {
    "id": "GGoFPkskgJ_I"
   },
   "source": [
    "### Step 13: Test getLabelCount\n",
    "Run the function with your first image in the car_image_2019_Jan folder, to see if you get\n",
    "- 6\n",
    "\n",
    "Use a for loop and run the function with your first five images as well to see if you can print the length of the labels in each image:\n",
    "- 6\n",
    "- 3\n",
    "- 2\n",
    "- 5\n",
    "- 4\n",
    "\n",
    "Don't worry if the numbers don't match exactly, but you should be able to count the number of cars in 0.jpg to 4.jpg from 2019."
   ]
  },
  {
   "cell_type": "code",
   "execution_count": null,
   "metadata": {
    "colab": {
     "base_uri": "https://localhost:8080/"
    },
    "id": "gg7O98-1gIJj",
    "outputId": "ef4d6259-d2da-48b0-a6e9-2fcff94163db"
   },
   "outputs": [],
   "source": [
    "# Step 13: Test getLabelCount"
   ]
  },
  {
   "cell_type": "markdown",
   "metadata": {
    "id": "TNcECkZmhViY"
   },
   "source": [
    "### Step 14: Get a list of getLabelCount for 2019\n",
    "Once you're confident that your function works, let's get a list of the label length from all the images in 2019.\n",
    "\n",
    "Use a for loop to loop through the 2019 DataFrame's index, and run getLabelCount to append its results into a list.\n",
    "\n",
    "At the end, you should have a list of lengths of label.\n",
    "\n",
    "There's no need for concurrency since the GPU-enabled cvlib is fast enough and your run will crash if you use concurrency.\n",
    "\n",
    "Once again, <strong>make sure you have a try-except block in your function</strong> because you don't want to spend 4 hours running this and realizing at the last step that your list is not the same length as your DataFrame.\n",
    "\n",
    "<font color='red'><strong>Allocate 4 hours for this Step.</strong></font>"
   ]
  },
  {
   "cell_type": "code",
   "execution_count": null,
   "metadata": {
    "colab": {
     "base_uri": "https://localhost:8080/"
    },
    "id": "Wx_SSXE_gqIC",
    "outputId": "c045752b-6afa-4fed-979e-0eb559202743"
   },
   "outputs": [],
   "source": [
    "### Step 14: Get a list of getLabelCount tuples for 2019"
   ]
  },
  {
   "cell_type": "markdown",
   "metadata": {
    "id": "ikAOy-fpYDE8"
   },
   "source": [
    "### Step 15: Add the length of labels to the 2019 DataFrame\n",
    "Well done! Add a new column called num_cars to the 2019 DataFrame with the list you created in Step 14. \n",
    "\n",
    "![2019FinalDataFrame](https://uplevelsg.s3-ap-southeast-1.amazonaws.com/ProjectComputerVisionTraffic/2019FinalDataFrame.png)\n",
    "\n",
    "You should see something like after you add the new column."
   ]
  },
  {
   "cell_type": "code",
   "execution_count": null,
   "metadata": {
    "colab": {
     "base_uri": "https://localhost:8080/",
     "height": 573
    },
    "id": "pw2B3J_zgkzS",
    "outputId": "e2a6158d-e137-4185-f40a-4e693453888c"
   },
   "outputs": [],
   "source": [
    "# Step 15: Add a new column named num_cars"
   ]
  },
  {
   "cell_type": "markdown",
   "metadata": {
    "id": "TxmLxesBo9GE"
   },
   "source": [
    "### Step 16: Export the DataFrame into CSV\n",
    "Do this Step as soon as you can! Imagine running 4 hours on getting the number of vehicles in your image but losing the data without saving.\n",
    "\n",
    "Export the DataFrame with the additional num_cars column."
   ]
  },
  {
   "cell_type": "code",
   "execution_count": null,
   "metadata": {
    "id": "jlcsp9kcY1qZ"
   },
   "outputs": [],
   "source": [
    "# Step 16: Export 2019 DataFrame into CSV"
   ]
  },
  {
   "cell_type": "markdown",
   "metadata": {
    "id": "DD3-w_XHpryB"
   },
   "source": [
    "### Step 17: Repeat Steps 14-16 for 2020 DataFrame\n",
    "Now that you're done with the 2019 Jan data, next up - 2020 Jan data. \n",
    "\n",
    "You'll have to allocate another 4 hours for this so you can consider taking a break before coming back to this."
   ]
  },
  {
   "cell_type": "code",
   "execution_count": null,
   "metadata": {
    "id": "FGxxyxCQpUSS"
   },
   "outputs": [],
   "source": [
    "# Step 17a: Get a list of number of vehicles "
   ]
  },
  {
   "cell_type": "code",
   "execution_count": null,
   "metadata": {
    "id": "kebwPykPqW60"
   },
   "outputs": [],
   "source": [
    "# Step 17b: Create a new column named num_cars in the 2020 DataFrame with the list"
   ]
  },
  {
   "cell_type": "code",
   "execution_count": null,
   "metadata": {
    "id": "HukWPgx0qcDZ"
   },
   "outputs": [],
   "source": [
    "# Step 17c: Export the DataFrame as CSV"
   ]
  },
  {
   "cell_type": "markdown",
   "metadata": {
    "id": "_AovErm3qf9w"
   },
   "source": [
    "# End of Part IV\n",
    "Wew, that took a really long time didn't it?\n",
    "\n",
    "You did it though, and persevered! In this Part, you successfully employed OpenCV to count the number of vehicles on the road.\n",
    "\n",
    "Next Part, we will finally analyze the data, and compare the number of vehicles captured by camera ID 1709. "
   ]
  }
 ],
 "metadata": {
  "accelerator": "GPU",
  "colab": {
   "name": "Project CV x Traffic (Part IV)",
   "provenance": [],
   "toc_visible": true
  },
  "kernelspec": {
   "display_name": "Python 3",
   "language": "python",
   "name": "python3"
  },
  "language_info": {
   "codemirror_mode": {
    "name": "ipython",
    "version": 3
   },
   "file_extension": ".py",
   "mimetype": "text/x-python",
   "name": "python",
   "nbconvert_exporter": "python",
   "pygments_lexer": "ipython3",
   "version": "3.8.3"
  }
 },
 "nbformat": 4,
 "nbformat_minor": 1
}
