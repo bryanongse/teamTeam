{
 "cells": [
  {
   "cell_type": "markdown",
   "metadata": {
    "id": "PflMzuJ13HGi"
   },
   "source": [
    "# Introduction\n",
    "<font color='orange'>[Google Colab]</font> In Part II, we collected data for January in 2019 and 2020.\n",
    " \n",
    "What we ended up with were two CSVs containing the traffic image URLs. We'll need to retrieve the images from the URL. \n",
    " \n",
    "In this Part, we will:\n",
    "1. Load the CSVs again into DataFrames\n",
    "2. Write a function to download images into your drive\n",
    "3. Execute the function concurrently\n",
    "4. Prepare for OpenCV GPU execution in Part IV\n",
    " \n",
    "<font color=\"red\"><strong>Allocate 4 hours for this Part.</strong></font>"
   ]
  },
  {
   "cell_type": "markdown",
   "metadata": {
    "id": "2NuOG3hsAIpO"
   },
   "source": [
    "# Test image collection\n",
    "In this section, we will loop through the URLs in the 'image' column in the DataFrame, and download the images first."
   ]
  },
  {
   "cell_type": "markdown",
   "metadata": {
    "id": "8M4pRF7nLer5"
   },
   "source": [
    " ### Step 1: Import libraries\n",
    "First, let's import a few libraries to retrieve the images.\n",
    "- pandas as pd\n",
    "- os\n",
    "- requests\n",
    "- BytesIO from io\n",
    "- Image from PIL"
   ]
  },
  {
   "cell_type": "code",
   "execution_count": null,
   "metadata": {
    "id": "ln-8pqiv5_7g"
   },
   "outputs": [],
   "source": [
    "# Step 1: Import the libraries"
   ]
  },
  {
   "cell_type": "markdown",
   "metadata": {
    "id": "ReJk3VlE6EbD"
   },
   "source": [
    "### Step 2: Load both CSVs from Part II\n",
    "Mount your Drive and load the two CSVs from Part II.\n",
    "\n",
    "The DataFrames should have around 29,990 to 30,000 rows, with 8 columns."
   ]
  },
  {
   "cell_type": "code",
   "execution_count": null,
   "metadata": {
    "colab": {
     "base_uri": "https://localhost:8080/",
     "height": 573
    },
    "id": "Mv3mjfIC6D3t",
    "outputId": "19f93dd0-0843-4a2b-e033-9c328fac14f1"
   },
   "outputs": [],
   "source": [
    "# Step 2a: Read 2019 Jan CSV into a DataFrame"
   ]
  },
  {
   "cell_type": "code",
   "execution_count": null,
   "metadata": {
    "colab": {
     "base_uri": "https://localhost:8080/",
     "height": 573
    },
    "id": "V6mFprZI6D5i",
    "outputId": "01ac658a-6a5d-4f4d-cd2e-7811cd25df26"
   },
   "outputs": [],
   "source": [
    "# Step 2b: Read 2020 Jan CSV into a DataFrame"
   ]
  },
  {
   "cell_type": "markdown",
   "metadata": {
    "id": "ayy3RlahNiAg"
   },
   "source": [
    "### Step 3: Create folders in your Drive\n",
    "You'll need to create new folders in your Google Drive, in the same folder:\n",
    "1. car_image_2019_Jan\n",
    "2. car_image_2020_Jan\n",
    "\n",
    "These two folders will contain the images that you will retrieve from the traffic image URLs.\n",
    "\n",
    "Your eventual folder structure should look something like this:\n",
    "\n",
    "```\n",
    "Google Drive folder (give it a name)\n",
    "│   Project CV x Traffic (Part I).ipynb\n",
    "│   Project CV x Traffic (Part II).ipynb\n",
    "│   Project CV x Traffic (Part III).ipynb   \n",
    "│   Project CV x Traffic (Part IV).ipynb    \n",
    "│   Project CV x Traffic (Part V).ipynb    \n",
    "│\n",
    "└───master-plan-2014-planning-area-boundary-no-sea-shp\n",
    "└───car_image_2019_Jan\n",
    "└───car_image_2020_Jan\n",
    "```"
   ]
  },
  {
   "cell_type": "markdown",
   "metadata": {
    "id": "nE7bhS22OIfa"
   },
   "source": [
    "### Step 4: Write function getImages\n",
    "Since we're using concurrency to retrieve images, we'll first write a function called getImages which takes in three arguments:\n",
    "1. index\n",
    "2. row\n",
    "3. destination_path\n",
    "\n",
    "The reason why we're doing this is because we'll be using an <strong>.iterrows method on the DataFrame later</strong> to get both the index of the row containing the image URL, and the row itself. \n",
    "\n",
    "There are many ways to do this so we'll leave you to do it, as long as you end up saving a JPG image from the correct row.\n",
    "\n",
    "Make sure you put in a try-except block in your function because the last thing you want is an error during the GET request for the image and you've no way of handling the error.\n",
    "\n",
    "P.S. Remember the BytesIO and Image that you imported earlier? We'll be using it here.\n"
   ]
  },
  {
   "cell_type": "markdown",
   "metadata": {
    "id": "tH8CregHm37r"
   },
   "source": [
    "<details>\n",
    "  <summary>Click here once if you're unsure and need pseudocode</summary>\n",
    "  <ol>\n",
    "    <li><strong>Define</strong> getImages that takes in three arguments - (<font color='red'>index</font>, <font color='green'>row</font>, <font color='blue'>destination_url</font>)</li>\n",
    "    <li>Declare a variable row_num that takes the current value of the <font color='red'>index</font>, the index of the current row </li>\n",
    "    <li>Declare a variable temp_url that takes the current value of the <font color='green'>row</font>'s 'image' column</li>\n",
    "    <li>Declare a variable temp_res that is the response object of the GET request from the temp_url</li>\n",
    "    <li>Start a try/except block, where you first try to</li>\n",
    "      <ul>\n",
    "        <li>Declare a variable that contains the Image object containing the BytesIO object containing the .content of the temp_res response object</li> \n",
    "        <li>.save the variable in your <font color='blue'>destination_url</font> folder, with the row_num as image filename. For example, the image from index 0 should be named as 0.jpg</li> \n",
    "        <li><a href='https://www.pythonanywhere.com/forums/topic/13795/'>Example reference</a> for save step.</li>\n",
    "      </ul>\n",
    "    <li>If an error occurs, just pass</li>\n",
    "  </ol>\n",
    "</details>"
   ]
  },
  {
   "cell_type": "code",
   "execution_count": null,
   "metadata": {
    "id": "L-zetwPSmdnD"
   },
   "outputs": [],
   "source": [
    "# Step 4: Write getImages function"
   ]
  },
  {
   "cell_type": "markdown",
   "metadata": {
    "id": "p5RPoXgYwSpa"
   },
   "source": [
    "### Step 5: Test with first five rows of 2019 Jan\n",
    "To see if you got the function right, let's run it through the first five rows of your 2019 Jan DataFrame.\n",
    "\n",
    "Use a for loop with a .iterrows of your first five rows, and use the index, row with the getImages function.\n",
    "\n",
    "If you do it right, you'll see something like this:\n",
    "\n",
    "```\n",
    "Google Drive folder (give it a name)\n",
    "│   Project CV x Traffic (Part I).ipynb\n",
    "│   Project CV x Traffic (Part II).ipynb\n",
    "│   Project CV x Traffic (Part III).ipynb   \n",
    "│   Project CV x Traffic (Part IV).ipynb    \n",
    "│   Project CV x Traffic (Part V).ipynb    \n",
    "│\n",
    "└───master-plan-2014-planning-area-boundary-no-sea-shp\n",
    "└───car_image_2019_Jan\n",
    "|   └───0.jpg\n",
    "|   └───1.jpg\n",
    "|   └───2.jpg\n",
    "|   └───3.jpg\n",
    "|   └───4.jpg\n",
    "|\n",
    "└───car_image_2020_Jan\n",
    "```\n",
    "And your 0.jpg should look like this:\n",
    "\n",
    "![2019JanExample](https://uplevelsg.s3-ap-southeast-1.amazonaws.com/ProjectComputerVisionTraffic/2019JanExample.png)"
   ]
  },
  {
   "cell_type": "code",
   "execution_count": null,
   "metadata": {
    "id": "DF8gao7dnE7W"
   },
   "outputs": [],
   "source": [
    "# Step 5: Save first five images with getImages"
   ]
  },
  {
   "cell_type": "markdown",
   "metadata": {
    "id": "ZL2NAhWKBx2C"
   },
   "source": [
    "# Full image collection"
   ]
  },
  {
   "cell_type": "markdown",
   "metadata": {
    "id": "BK3drkHKBF2h"
   },
   "source": [
    "### Step 6: Run a concurrent getImages call for 2019\n",
    "If you've successfully called getImages on the first five rows of your 2019 DataFrame, it's time to get all of your images.\n",
    "\n",
    "Construct a concurrent process, similar to Part II Step 4. \n",
    "\n",
    "You'll need 150 max workers, using a ThreadPoolExecutor. Make sure you .submit four things as an argument (in order):\n",
    "1. getImages\n",
    "2. index\n",
    "3. row\n",
    "4. destination PATH in GDrive\n",
    "\n",
    "Check the car_image_2019_Jan from time to time to see if images are being added in.\n",
    "\n",
    "<font color='red'><strong>Allocate 20-25 minutes for this task.</strong></font>"
   ]
  },
  {
   "cell_type": "code",
   "execution_count": null,
   "metadata": {
    "id": "pBq2b9AwCYCd"
   },
   "outputs": [],
   "source": [
    "# Step 6: Run a concurrent getImages call for 2019"
   ]
  },
  {
   "cell_type": "markdown",
   "metadata": {
    "id": "iL94LUl9CqdP"
   },
   "source": [
    "### Step 7: Count the number of images in car_image_2019_Jan\n",
    "Now that you're done retrieving the images and saved them in the car_image_2019_Jan folder, check how many images you've saved.\n",
    "\n",
    "There are a few ways to do this, but the listdir method from the os library works. \n",
    "\n",
    "Make sure the number of images in your folder and the length of your 2019 DataFrame are similar. It's ok to be off by a few images since there might be errors in the API.\n",
    "\n",
    "Don't forget to manually check that your images are ok in the folder as well."
   ]
  },
  {
   "cell_type": "code",
   "execution_count": null,
   "metadata": {
    "colab": {
     "base_uri": "https://localhost:8080/"
    },
    "id": "EWyHPinUCoQ9",
    "outputId": "140ee09a-e4f7-46bf-e08a-e0d871fd89fb"
   },
   "outputs": [],
   "source": [
    "# Step 7: Count the number of images in car_image_2019_Jan"
   ]
  },
  {
   "cell_type": "markdown",
   "metadata": {
    "id": "diStlJBWGSeu"
   },
   "source": [
    "### Step 8: Repeat Steps 6-7 for car_image_2020_Jan\n",
    "Once you successfully carried out Steps 6-7 for the 2019 data, do the same for 2020. \n",
    "\n"
   ]
  },
  {
   "cell_type": "code",
   "execution_count": null,
   "metadata": {
    "id": "a3-m_sv3Db-V"
   },
   "outputs": [],
   "source": [
    "# Step 8: Retrieve all images for 2020 Jan"
   ]
  },
  {
   "cell_type": "markdown",
   "metadata": {
    "id": "R8h2rEyKGz6j"
   },
   "source": [
    "# Prepare for OpenCV in GPU mode in Colab\n",
    "If you're working on this project series on Google Colab, there are some things you need to prepare first before you can run GPU mode for OpenCV - a popular computer vision library.\n",
    "\n",
    "We'll be using a very useful reference from https://towardsdatascience.com/how-to-use-opencv-with-gpu-on-colab-25594379945f\n"
   ]
  },
  {
   "cell_type": "markdown",
   "metadata": {
    "id": "koTEVqyILHEe"
   },
   "source": [
    "### Step 9: Run the first cell as specified by the author\n",
    "Copy exactly what the author told you to copy and run, i.e. the code block immediately after \"First, run this cell:\"\n",
    "\n",
    "This will take quite a while. <font color='red'><strong>Allocate 1.5 hours for this.</strong></font>"
   ]
  },
  {
   "cell_type": "code",
   "execution_count": null,
   "metadata": {
    "id": "QF8GlBsUGum4"
   },
   "outputs": [],
   "source": [
    "# Step 9: Run the first cell as specified by the author"
   ]
  },
  {
   "cell_type": "markdown",
   "metadata": {
    "id": "LVauAI0NLl4g"
   },
   "source": [
    "### Step 10: Import and check the version of OpenCV\n",
    "The author tells you to check the version of OpenCV after installing it.\n",
    "\n",
    "Import cv2 and then check its version."
   ]
  },
  {
   "cell_type": "code",
   "execution_count": null,
   "metadata": {
    "id": "bbsXr40NL_sT"
   },
   "outputs": [],
   "source": [
    "# Step 10: Import and check OpenCV version"
   ]
  },
  {
   "cell_type": "markdown",
   "metadata": {
    "id": "gMRomNftMAiu"
   },
   "source": [
    "### Step 11: Save the results of Step 9 to your own GDrive\n",
    "The results of Step 9 isn't permanent, and you'll have to repeat this again if you don't save it. \n",
    "\n",
    "Scroll down the article a bit, and the author tells you to save the result of Step 9 to your own Drive.\n",
    "\n",
    "The PATH is slightly wrong, so make sure you fix it, i.e. /gdrive/ to /drive/ if your PATH is named like that. \n",
    "\n",
    "Otherwise you'll face an error."
   ]
  },
  {
   "cell_type": "code",
   "execution_count": null,
   "metadata": {
    "id": "yxhF8eH5MnTs"
   },
   "outputs": [],
   "source": [
    "# Step 11: Save the new OpenCV into your own GDrive"
   ]
  },
  {
   "cell_type": "markdown",
   "metadata": {
    "id": "q8pRpGtDMrhi"
   },
   "source": [
    "### Step 12: Copy the OpenCV library into your working directory\n",
    "You'll have to copy the library into your working directory as well (this folder).\n",
    "\n",
    "Run the final code cell provided by the author.\n",
    "\n",
    "```\n",
    "Google Drive folder (give it a name)\n",
    "│   Project CV x Traffic (Part I).ipynb\n",
    "│   Project CV x Traffic (Part II).ipynb\n",
    "│   Project CV x Traffic (Part III).ipynb   \n",
    "│   Project CV x Traffic (Part IV).ipynb    \n",
    "│   Project CV x Traffic (Part V).ipynb    \n",
    "│   cv2.cpython-36m-x86_64-linux-gnu.so\n",
    "│\n",
    "└───master-plan-2014-planning-area-boundary-no-sea-shp\n",
    "└───car_image_2019_Jan\n",
    "└───car_image_2020_Jan\n",
    "```\n",
    "Your folder should look something like this after running the final code cell.\n"
   ]
  },
  {
   "cell_type": "code",
   "execution_count": null,
   "metadata": {
    "id": "eqvDndvvNsGe"
   },
   "outputs": [],
   "source": [
    "# Step 12: Move the new OpenCV into your current folder"
   ]
  },
  {
   "cell_type": "markdown",
   "metadata": {
    "id": "j21k_V5qNwLk"
   },
   "source": [
    "# End of Part III\n",
    "What a long Part. \n",
    "\n",
    "In this Part, you successfully retrieved all images that the project needs.\n",
    "\n",
    "On top of that, you've also successfully upgraded your OpenCV version so that you can work with the GPU.\n",
    "\n",
    "In the next Part, you will finally get down to it and count the number of vehicles on roads in your images that you have collected."
   ]
  }
 ],
 "metadata": {
  "colab": {
   "name": "Project CV x Traffic (Part III)",
   "provenance": [],
   "toc_visible": true
  },
  "kernelspec": {
   "display_name": "Python 3",
   "language": "python",
   "name": "python3"
  },
  "language_info": {
   "codemirror_mode": {
    "name": "ipython",
    "version": 3
   },
   "file_extension": ".py",
   "mimetype": "text/x-python",
   "name": "python",
   "nbconvert_exporter": "python",
   "pygments_lexer": "ipython3",
   "version": "3.8.3"
  }
 },
 "nbformat": 4,
 "nbformat_minor": 1
}
