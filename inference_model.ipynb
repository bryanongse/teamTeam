{
 "cells": [
  {
   "cell_type": "code",
   "execution_count": 20,
   "metadata": {},
   "outputs": [],
   "source": [
    "import numpy as np\n",
    "import pandas as pd\n",
    "from sklearn.metrics import mean_squared_error\n",
    "from sklearn.model_selection import GridSearchCV\n",
    "\n",
    "import lightgbm as lgb"
   ]
  },
  {
   "cell_type": "markdown",
   "metadata": {},
   "source": [
    "### Load data"
   ]
  },
  {
   "cell_type": "code",
   "execution_count": 25,
   "metadata": {},
   "outputs": [
    {
     "name": "stdout",
     "output_type": "stream",
     "text": [
      "<class 'pandas.core.frame.DataFrame'>\n",
      "RangeIndex: 279768 entries, 0 to 279767\n",
      "Data columns (total 39 columns):\n",
      " #   Column                Non-Null Count   Dtype         \n",
      "---  ------                --------------   -----         \n",
      " 0   trj_id                279768 non-null  object        \n",
      " 1   driving_mode          279768 non-null  object        \n",
      " 2   osname                279768 non-null  object        \n",
      " 3   start_time            279768 non-null  datetime64[ns]\n",
      " 4   end_time              279768 non-null  datetime64[ns]\n",
      " 5   eta                   279768 non-null  int64         \n",
      " 6   start_lat             279768 non-null  float64       \n",
      " 7   end_lat               279768 non-null  float64       \n",
      " 8   start_lng             279768 non-null  float64       \n",
      " 9   end_lng               279768 non-null  float64       \n",
      " 10  time_of_day           279768 non-null  int64         \n",
      " 11  day_of_week           279768 non-null  int64         \n",
      " 12  avg_speed             279768 non-null  float64       \n",
      " 13  median_speed          279768 non-null  float64       \n",
      " 14  distance              279768 non-null  float64       \n",
      " 15  crowded_cost_raw      279768 non-null  float64       \n",
      " 16  col_cost_raw          279768 non-null  float64       \n",
      " 17  school_cost_raw       279768 non-null  float64       \n",
      " 18  supermarket_cost_raw  279768 non-null  float64       \n",
      " 19  mrt_cost_raw          279768 non-null  float64       \n",
      " 20  parks_cost_raw        279768 non-null  float64       \n",
      " 21  hawker_cost_raw       279768 non-null  float64       \n",
      " 22  mall_cost_raw         279768 non-null  float64       \n",
      " 23  is_crowded            279768 non-null  float64       \n",
      " 24  is_real_value         279768 non-null  float64       \n",
      " 25  is_near_school        279768 non-null  float64       \n",
      " 26  is_near_supermarket   279768 non-null  float64       \n",
      " 27  is_near_mrt           279768 non-null  float64       \n",
      " 28  is_near_park          279768 non-null  float64       \n",
      " 29  is_near_hawker        279768 non-null  float64       \n",
      " 30  is_near_mall          279768 non-null  float64       \n",
      " 31  crowded_cost          279768 non-null  float64       \n",
      " 32  col_cost              279768 non-null  float64       \n",
      " 33  school_cost           279768 non-null  float64       \n",
      " 34  supermarket_cost      279768 non-null  float64       \n",
      " 35  mrt_cost              279768 non-null  float64       \n",
      " 36  park_cost             279768 non-null  float64       \n",
      " 37  hawker_cost           279768 non-null  float64       \n",
      " 38  mall_cost             279768 non-null  float64       \n",
      "dtypes: datetime64[ns](2), float64(31), int64(3), object(3)\n",
      "memory usage: 83.2+ MB\n"
     ]
    }
   ],
   "source": [
    "df = pd.read_parquet('/home/foolingeng/ruien/data/grab-posisi/trip_info/trip_info_sg.parquet')\n",
    "df = df.reset_index(drop=True)\n",
    "df.info()"
   ]
  },
  {
   "cell_type": "markdown",
   "metadata": {},
   "source": [
    "### Convert datetime data"
   ]
  },
  {
   "cell_type": "code",
   "execution_count": 107,
   "metadata": {},
   "outputs": [
    {
     "data": {
      "text/plain": [
       "array(['car'], dtype=object)"
      ]
     },
     "execution_count": 107,
     "metadata": {},
     "output_type": "execute_result"
    }
   ],
   "source": [
    "df['start_hour'] = df['start_time'].dt.hour\n",
    "df['start_minute'] = df['start_time'].dt.minute\n",
    "df['end_hour'] = df['end_time'].dt.hour\n",
    "df['end_minute'] = df['end_time'].dt.minute"
   ]
  },
  {
   "cell_type": "code",
   "execution_count": 106,
   "metadata": {},
   "outputs": [
    {
     "data": {
      "text/plain": [
       "Index(['trj_id', 'driving_mode', 'osname', 'start_time', 'end_time', 'eta',\n",
       "       'start_lat', 'end_lat', 'start_lng', 'end_lng', 'time_of_day',\n",
       "       'day_of_week', 'avg_speed', 'median_speed', 'distance',\n",
       "       'crowded_cost_raw', 'col_cost_raw', 'school_cost_raw',\n",
       "       'supermarket_cost_raw', 'mrt_cost_raw', 'parks_cost_raw',\n",
       "       'hawker_cost_raw', 'mall_cost_raw', 'is_crowded', 'is_real_value',\n",
       "       'is_near_school', 'is_near_supermarket', 'is_near_mrt', 'is_near_park',\n",
       "       'is_near_hawker', 'is_near_mall', 'crowded_cost', 'col_cost',\n",
       "       'school_cost', 'supermarket_cost', 'mrt_cost', 'park_cost',\n",
       "       'hawker_cost', 'mall_cost', 'start_hour', 'start_minute', 'end_hour',\n",
       "       'end_minute'],\n",
       "      dtype='object')"
      ]
     },
     "execution_count": 106,
     "metadata": {},
     "output_type": "execute_result"
    }
   ],
   "source": [
    "df.columns"
   ]
  },
  {
   "cell_type": "markdown",
   "metadata": {},
   "source": [
    "### Split dataset"
   ]
  },
  {
   "cell_type": "code",
   "execution_count": 108,
   "metadata": {},
   "outputs": [
    {
     "data": {
      "text/plain": [
       "((223815, 43), (55954, 43), (223815, 35), (223815,), (55954, 35), (55954,))"
      ]
     },
     "execution_count": 108,
     "metadata": {},
     "output_type": "execute_result"
    }
   ],
   "source": [
    "train_size = int(0.8 * df.shape[0])\n",
    "df_train = df.loc[:train_size, :]\n",
    "df_test = df.loc[train_size:, :]\n",
    "\n",
    "train_features = [\n",
    "    # 'driving_mode', 'start_time', 'end_time',\n",
    "    'start_hour', 'start_minute',\n",
    "    'start_lat', 'end_lat', 'start_lng', 'end_lng', 'time_of_day',\n",
    "    'day_of_week', 'avg_speed', 'median_speed', 'distance',\n",
    "    'crowded_cost_raw', 'col_cost_raw', 'school_cost_raw',\n",
    "    'supermarket_cost_raw', 'mrt_cost_raw', 'parks_cost_raw',\n",
    "    'hawker_cost_raw', 'mall_cost_raw', 'is_crowded', 'is_real_value',\n",
    "    'is_near_school', 'is_near_supermarket', 'is_near_mrt', 'is_near_park',\n",
    "    'is_near_hawker', 'is_near_mall', 'crowded_cost', 'col_cost',\n",
    "    'school_cost', 'supermarket_cost', 'mrt_cost', 'park_cost',\n",
    "    'hawker_cost', 'mall_cost']\n",
    "target_feature = 'eta'\n",
    "\n",
    "x_train = df_train[train_features]\n",
    "y_train = df_train[target_feature]\n",
    "x_test = df_test[train_features]\n",
    "y_test = df_test[target_feature]\n",
    "\n",
    "df_train.shape, df_test.shape, x_train.shape, y_train.shape, x_test.shape, y_test.shape"
   ]
  },
  {
   "cell_type": "markdown",
   "metadata": {},
   "source": [
    "### Preprocessing"
   ]
  },
  {
   "cell_type": "code",
   "execution_count": 109,
   "metadata": {},
   "outputs": [
    {
     "data": {
      "text/plain": [
       "array([[ 0.34341833, -0.17137756, -1.05473169, ...,  1.12441929,\n",
       "        -0.96472921,  2.86533847],\n",
       "       [-1.10517752,  0.88172841, -0.12992906, ..., -0.42370002,\n",
       "        -0.77365566,  0.77987407],\n",
       "       [-1.42708771,  1.17425784,  1.8199718 , ..., -1.40237587,\n",
       "        -0.9655104 , -1.24201194],\n",
       "       ...,\n",
       "       [ 2.11392437,  0.06264599, -0.33389543, ..., -0.09077033,\n",
       "        -0.38828282, -0.32393725],\n",
       "       [ 1.14819381, -0.40540111, -1.39840781, ...,  0.27122323,\n",
       "        -0.92256623, -0.1153641 ],\n",
       "       [-1.26613261,  0.53069308, -0.403023  , ..., -0.70756184,\n",
       "        -0.10041229,  0.02532622]])"
      ]
     },
     "execution_count": 109,
     "metadata": {},
     "output_type": "execute_result"
    }
   ],
   "source": [
    "from sklearn.preprocessing import StandardScaler\n",
    "scaler = StandardScaler().fit(x_train)\n",
    "\n",
    "x_train_transformed = scaler.transform(x_train)\n",
    "x_test_transformed = scaler.transform(x_test)\n",
    "x_train_transformed.shape, x_test_transformed.shape\n",
    "x_train_transformed"
   ]
  },
  {
   "cell_type": "code",
   "execution_count": 110,
   "metadata": {},
   "outputs": [],
   "source": [
    "train_data = lgb.Dataset(x_train, label=x_test, categorical_feature=[''])"
   ]
  },
  {
   "cell_type": "markdown",
   "metadata": {},
   "source": [
    "### Hyperparameter tuning"
   ]
  },
  {
   "cell_type": "code",
   "execution_count": 111,
   "metadata": {},
   "outputs": [
    {
     "name": "stdout",
     "output_type": "stream",
     "text": [
      "Best parameters found by grid search are: {'learning_rate': 0.3, 'n_estimators': 255}\n"
     ]
    }
   ],
   "source": [
    "estimator = lgb.LGBMRegressor(num_leaves=31)\n",
    "\n",
    "param_grid = {\n",
    "    'learning_rate': [0.2, 0.3, 0.4],\n",
    "    'n_estimators': [127, 255]\n",
    "}\n",
    "\n",
    "gbm = GridSearchCV(estimator, param_grid, cv=3)\n",
    "gbm.fit(x_train_transformed, y_train)\n",
    "\n",
    "print(f'Best parameters found by grid search are: {gbm.best_params_}')"
   ]
  },
  {
   "cell_type": "markdown",
   "metadata": {},
   "source": [
    "### Train"
   ]
  },
  {
   "cell_type": "code",
   "execution_count": 113,
   "metadata": {},
   "outputs": [
    {
     "name": "stdout",
     "output_type": "stream",
     "text": [
      "Training until validation scores don't improve for 5 rounds\n",
      "Did not meet early stopping. Best iteration is:\n",
      "[255]\tvalid_0's l2: 1.55856\n"
     ]
    },
    {
     "data": {
      "text/plain": [
       "LGBMRegressor(learning_rate=0.3, n_estimators=255, num_leaves=127,\n",
       "              reg_lambda=0.001)"
      ]
     },
     "execution_count": 113,
     "metadata": {},
     "output_type": "execute_result"
    }
   ],
   "source": [
    "gbm = lgb.LGBMRegressor(num_leaves=127,\n",
    "                        learning_rate=0.3,\n",
    "                        n_estimators=255,\n",
    "                        reg_lambda=1e-3,\n",
    "                        boosting_type='gbdt')\n",
    "\n",
    "gbm.fit(x_train, y_train,\n",
    "        eval_set=[(x_test, y_test)],\n",
    "        eval_metric='l2',\n",
    "        callbacks=[lgb.early_stopping(5)])"
   ]
  },
  {
   "cell_type": "code",
   "execution_count": 114,
   "metadata": {},
   "outputs": [
    {
     "data": {
      "text/plain": [
       "{'boosting_type': 'gbdt',\n",
       " 'class_weight': None,\n",
       " 'colsample_bytree': 1.0,\n",
       " 'importance_type': 'split',\n",
       " 'learning_rate': 0.3,\n",
       " 'max_depth': -1,\n",
       " 'min_child_samples': 20,\n",
       " 'min_child_weight': 0.001,\n",
       " 'min_split_gain': 0.0,\n",
       " 'n_estimators': 255,\n",
       " 'n_jobs': -1,\n",
       " 'num_leaves': 127,\n",
       " 'objective': None,\n",
       " 'random_state': None,\n",
       " 'reg_alpha': 0.0,\n",
       " 'reg_lambda': 0.001,\n",
       " 'silent': 'warn',\n",
       " 'subsample': 1.0,\n",
       " 'subsample_for_bin': 200000,\n",
       " 'subsample_freq': 0}"
      ]
     },
     "execution_count": 114,
     "metadata": {},
     "output_type": "execute_result"
    }
   ],
   "source": [
    "gbm.get_params()"
   ]
  },
  {
   "cell_type": "markdown",
   "metadata": {},
   "source": [
    "### Evaluation"
   ]
  },
  {
   "cell_type": "code",
   "execution_count": 115,
   "metadata": {},
   "outputs": [
    {
     "name": "stdout",
     "output_type": "stream",
     "text": [
      "The RMSE of prediction is: 1.2484217978053376\n",
      "Feature importances: [1407, 1977, 2077, 1885, 2034, 1790, 0, 900, 1621, 1227, 2132, 521, 567, 450, 441, 533, 544, 473, 452, 849, 817, 816, 740, 861, 761, 781, 799, 570, 518, 550, 516, 605, 562, 711, 643]\n"
     ]
    },
    {
     "data": {
      "text/plain": [
       "(array([15.09876938, 18.80622294, 14.86620492, ..., 20.12313297,\n",
       "        19.33278019, 13.95933756]),\n",
       " 223814    16\n",
       " 223815    18\n",
       " 223816    16\n",
       " 223817    13\n",
       " 223818    20\n",
       "           ..\n",
       " 279763    19\n",
       " 279764    29\n",
       " 279765    20\n",
       " 279766    18\n",
       " 279767    15\n",
       " Name: eta, Length: 55954, dtype: int64)"
      ]
     },
     "execution_count": 115,
     "metadata": {},
     "output_type": "execute_result"
    }
   ],
   "source": [
    "# predict\n",
    "y_pred = gbm.predict(x_test, num_iteration=gbm.best_iteration_)\n",
    "\n",
    "# eval\n",
    "rmse_test = mean_squared_error(y_test, y_pred) ** 0.5\n",
    "print(f'The RMSE of prediction is: {rmse_test}')\n",
    "\n",
    "# feature importances\n",
    "print(f'Feature importances: {list(gbm.feature_importances_)}')\n",
    "\n",
    "y_pred, y_test"
   ]
  },
  {
   "cell_type": "code",
   "execution_count": 88,
   "metadata": {},
   "outputs": [
    {
     "data": {
      "text/plain": [
       "<AxesSubplot:title={'center':'Split value histogram for feature with name distance'}, xlabel='Feature split value', ylabel='Count'>"
      ]
     },
     "execution_count": 88,
     "metadata": {},
     "output_type": "execute_result"
    },
    {
     "data": {
      "image/png": "[encoded data removed]",
      "text/plain": [
       "<Figure size 432x288 with 1 Axes>"
      ]
     },
     "metadata": {
      "needs_background": "light"
     },
     "output_type": "display_data"
    },
    {
     "data": {
      "image/png": "[encoded data removed]",
      "text/plain": [
       "<Figure size 432x288 with 1 Axes>"
      ]
     },
     "metadata": {
      "needs_background": "light"
     },
     "output_type": "display_data"
    }
   ],
   "source": [
    "lgb.plot_importance(gbm)\n",
    "lgb.plot_split_value_histogram(gbm, 'distance')"
   ]
  }
 ],
 "metadata": {
  "interpreter": {
   "hash": "e6ef020091fa03ccbcbfd23b9f399b3c0029d461c85f96cf9a647a1d6f72756b"
  },
  "kernelspec": {
   "display_name": "Python 3.8.12 ('posisi')",
   "language": "python",
   "name": "python3"
  },
  "language_info": {
   "codemirror_mode": {
    "name": "ipython",
    "version": 3
   },
   "file_extension": ".py",
   "mimetype": "text/x-python",
   "name": "python",
   "nbconvert_exporter": "python",
   "pygments_lexer": "ipython3",
   "version": "3.8.12"
  },
  "orig_nbformat": 4
 },
 "nbformat": 4,
 "nbformat_minor": 2
}
